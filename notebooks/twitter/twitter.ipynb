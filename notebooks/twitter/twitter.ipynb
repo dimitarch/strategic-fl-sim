{
 "cells": [
  {
   "cell_type": "markdown",
   "id": "b89dad4d",
   "metadata": {},
   "source": [
    "# `strategic-fl-sim`: Twitter/Sent140 Demo Experiment\n",
    "\n",
    "Demonstrating strategic federated learning with Byzantine client who uses sign flipping"
   ]
  },
  {
   "cell_type": "code",
   "execution_count": null,
   "id": "3b3eaebe",
   "metadata": {},
   "outputs": [
    {
     "name": "stderr",
     "output_type": "stream",
     "text": [
      "/Users/dimitar-chakarov/Documents/projects/strategicfl/fl/lib/python3.13/site-packages/tqdm/auto.py:21: TqdmWarning: IProgress not found. Please update jupyter and ipywidgets. See https://ipywidgets.readthedocs.io/en/stable/user_install.html\n",
      "  from .autonotebook import tqdm as notebook_tqdm\n"
     ]
    }
   ],
   "source": [
    "import json\n",
    "import pickle\n",
    "\n",
    "import matplotlib.pyplot as plt\n",
    "import numpy as np\n",
    "import torch\n",
    "from torch import nn\n",
    "from torch.utils.data import DataLoader\n",
    "from twitterdataset import TwitterDataset\n",
    "\n",
    "from models.bert import BertWithClassifier\n",
    "from strategicflsim.agents import Client, Server\n",
    "from strategicflsim.utils.actions import create_scalar_action, create_sign_flip_action\n",
    "from strategicflsim.utils.aggregation import get_aggregate\n",
    "from strategicflsim.utils.evaluate import evaluate_with_ids\n",
    "from strategicflsim.utils.metrics import get_gradient_metrics"
   ]
  },
  {
   "cell_type": "markdown",
   "id": "9b964c24",
   "metadata": {},
   "source": [
    "## Preparation/initialization"
   ]
  },
  {
   "cell_type": "markdown",
   "id": "c45c0acd",
   "metadata": {},
   "source": [
    "### Setup device"
   ]
  },
  {
   "cell_type": "code",
   "execution_count": 2,
   "id": "377cf9a4",
   "metadata": {},
   "outputs": [
    {
     "name": "stdout",
     "output_type": "stream",
     "text": [
      "Using device: mps\n"
     ]
    }
   ],
   "source": [
    "if torch.cuda.is_available():\n",
    "    device = torch.device(\"cuda\")  # GPU\n",
    "elif torch.backends.mps.is_built():\n",
    "    device = torch.device(\"mps\")  # Apple M-series\n",
    "else:\n",
    "    device = torch.device(\"cpu\")  # CPU\n",
    "\n",
    "print(f\"Using device: {device}\")"
   ]
  },
  {
   "cell_type": "markdown",
   "id": "f3661fdc",
   "metadata": {},
   "source": [
    "### Setup experiment configuration"
   ]
  },
  {
   "cell_type": "code",
   "execution_count": 17,
   "id": "b74eaf8e",
   "metadata": {},
   "outputs": [
    {
     "name": "stdout",
     "output_type": "stream",
     "text": [
      "Configuration:\n",
      "  training:\n",
      "    T: 500\n",
      "    lr: 0.06\n",
      "    local_steps: 1\n",
      "    batch_size: 8\n",
      "    eval_batch_size: 8\n",
      "  clients:\n",
      "    n_players: 5\n",
      "    alpha_0: 1.0\n",
      "    alpha_1: 2.0\n",
      "    beta_0: 0.0\n",
      "    beta_1: 0.0\n",
      "  aggregation:\n",
      "    method: mean\n",
      "  data:\n",
      "    train_path: ../../data/twitter/train.json\n",
      "    test_path: ../../data/twitter/test.json\n",
      "    min_samples: 15\n",
      "    max_samples: 20\n",
      "  model:\n",
      "    max_length: 512\n"
     ]
    }
   ],
   "source": [
    "config = {\n",
    "    \"training\": {\n",
    "        \"T\": 500,\n",
    "        \"lr\": 0.06,\n",
    "        \"local_steps\": 1,\n",
    "        \"batch_size\": 8,\n",
    "        \"eval_batch_size\": 8,\n",
    "    },\n",
    "    \"clients\": {\n",
    "        \"n_players\": 5,\n",
    "        \"alpha_0\": 1.0,\n",
    "        \"alpha_1\": 2.0,\n",
    "        \"beta_0\": 0.0,\n",
    "        \"beta_1\": 0.0,\n",
    "    },\n",
    "    \"aggregation\": {\"method\": \"mean\"},\n",
    "    \"data\": {\n",
    "        \"train_path\": \"../../data/twitter/train.json\",\n",
    "        \"test_path\": \"../../data/twitter/test.json\",\n",
    "        \"min_samples\": 15,\n",
    "        \"max_samples\": 20,\n",
    "    },\n",
    "    \"model\": {\"max_length\": 512},\n",
    "}\n",
    "\n",
    "print(\"Configuration:\")\n",
    "for section, values in config.items():\n",
    "    print(f\"  {section}:\")\n",
    "    for key, value in values.items():\n",
    "        print(f\"    {key}: {value}\")"
   ]
  },
  {
   "cell_type": "markdown",
   "id": "1e3a284a",
   "metadata": {},
   "source": [
    "### Helper function"
   ]
  },
  {
   "cell_type": "code",
   "execution_count": 18,
   "id": "b4246353",
   "metadata": {},
   "outputs": [],
   "source": [
    "def freeze_bert_encoder(model):\n",
    "    \"\"\"Freeze BERT encoder layers, keep only classifier trainable.\"\"\"\n",
    "    for name, param in model.named_parameters():\n",
    "        if \"classifier\" in name:\n",
    "            param.requires_grad = True\n",
    "        else:\n",
    "            param.requires_grad = False\n",
    "\n",
    "\n",
    "def get_data(path: str):\n",
    "    \"\"\"Load data from JSON file.\"\"\"\n",
    "    with open(path, \"r\") as f:\n",
    "        data = json.load(f)\n",
    "        user_names = data[\"users\"]\n",
    "        data_dict = data[\"user_data\"]\n",
    "    return data_dict, user_names\n"
   ]
  },
  {
   "cell_type": "markdown",
   "id": "6d4e7dcf",
   "metadata": {},
   "source": [
    "### Loading the Sent140 data"
   ]
  },
  {
   "cell_type": "code",
   "execution_count": 19,
   "id": "d393b4c8",
   "metadata": {},
   "outputs": [
    {
     "name": "stdout",
     "output_type": "stream",
     "text": [
      "\n",
      "Loading Twitter data...\n",
      "Training data: 254555 users\n",
      "Test data: 254555 users\n",
      "Filtered to 3415 users with 15-20 samples\n"
     ]
    }
   ],
   "source": [
    "print(\"\\nLoading Twitter data...\")\n",
    "data_dict, user_names = get_data(config[\"data\"][\"train_path\"])\n",
    "test_data_dict, user_names_test = get_data(config[\"data\"][\"test_path\"])\n",
    "\n",
    "print(f\"Training data: {len(user_names)} users\")\n",
    "print(f\"Test data: {len(user_names_test)} users\")\n",
    "\n",
    "# Verify consistency between train and test user names\n",
    "usernames_diff = list(set(user_names) ^ set(user_names_test))\n",
    "assert not usernames_diff, \"Inconsistent usernames between test and train\"\n",
    "\n",
    "# DATA FILTERING\n",
    "if \"min_samples\" in config[\"data\"] and \"max_samples\" in config[\"data\"]:\n",
    "    subset = [\n",
    "        user_name\n",
    "        for user_name in user_names\n",
    "        if config[\"data\"][\"min_samples\"]\n",
    "        <= len(data_dict[user_name][\"y\"])\n",
    "        <= config[\"data\"][\"max_samples\"]\n",
    "    ]\n",
    "    print(\n",
    "        f\"Filtered to {len(subset)} users with {config['data']['min_samples']}-{config['data']['max_samples']} samples\"\n",
    "    )\n",
    "\n",
    "    user_names = subset\n",
    "    data_dict = {key: data_dict[key] for key in subset}\n",
    "    test_data_dict = {key: test_data_dict[key] for key in subset}"
   ]
  },
  {
   "cell_type": "markdown",
   "id": "56eb7173",
   "metadata": {},
   "source": [
    "### Creating a Server agent with BERT"
   ]
  },
  {
   "cell_type": "code",
   "execution_count": 20,
   "id": "c8523cd2",
   "metadata": {},
   "outputs": [
    {
     "name": "stdout",
     "output_type": "stream",
     "text": [
      "\n",
      "Creating server...\n"
     ]
    },
    {
     "name": "stderr",
     "output_type": "stream",
     "text": [
      "Some weights of BertForSequenceClassification were not initialized from the model checkpoint at bert-base-uncased and are newly initialized: ['classifier.bias', 'classifier.weight']\n",
      "You should probably TRAIN this model on a down-stream task to be able to use it for predictions and inference.\n"
     ]
    },
    {
     "name": "stdout",
     "output_type": "stream",
     "text": [
      "Trainable parameters: 296,066 / 109,778,306 (0.3%)\n",
      "Created server with mean aggregation\n"
     ]
    }
   ],
   "source": [
    "print(\"\\nCreating server...\")\n",
    "server_model = BertWithClassifier().to(device)\n",
    "\n",
    "# Freeze BERT encoder, keep only classifier trainable\n",
    "freeze_bert_encoder(server_model)\n",
    "\n",
    "# Count trainable parameters\n",
    "trainable_params = sum(p.numel() for p in server_model.parameters() if p.requires_grad)\n",
    "total_params = sum(p.numel() for p in server_model.parameters())\n",
    "print(\n",
    "    f\"Trainable parameters: {trainable_params:,} / {total_params:,} ({100 * trainable_params / total_params:.1f}%)\"\n",
    ")\n",
    "\n",
    "server = Server(\n",
    "    device=device,\n",
    "    model=server_model,\n",
    "    criterion=nn.CrossEntropyLoss(),\n",
    "    optimizer=torch.optim.SGD(\n",
    "        [p for p in server_model.parameters() if p.requires_grad],\n",
    "        lr=config[\"training\"][\"lr\"],\n",
    "    ),\n",
    "    aggregate_fn=get_aggregate(method=config[\"aggregation\"][\"method\"]),\n",
    "    agent_id=\"server\",\n",
    ")\n",
    "\n",
    "print(f\"Created server with {config['aggregation']['method']} aggregation\")"
   ]
  },
  {
   "cell_type": "markdown",
   "id": "532575d5",
   "metadata": {},
   "source": [
    "### Creating a group of Client agents\n",
    "\n",
    "All but one clients are honest, one client is flipping the sign and scaling up the update."
   ]
  },
  {
   "cell_type": "code",
   "execution_count": null,
   "id": "21ad416f",
   "metadata": {},
   "outputs": [
    {
     "name": "stdout",
     "output_type": "stream",
     "text": [
      "\n",
      "Creating clients...\n",
      "  Client 1: honest (α=1.0, β=0.0) - 683 users\n"
     ]
    },
    {
     "name": "stderr",
     "output_type": "stream",
     "text": [
      "Some weights of BertForSequenceClassification were not initialized from the model checkpoint at bert-base-uncased and are newly initialized: ['classifier.bias', 'classifier.weight']\n",
      "You should probably TRAIN this model on a down-stream task to be able to use it for predictions and inference.\n"
     ]
    },
    {
     "name": "stdout",
     "output_type": "stream",
     "text": [
      "  Client 2: honest (α=1.0, β=0.0) - 683 users\n"
     ]
    },
    {
     "name": "stderr",
     "output_type": "stream",
     "text": [
      "Some weights of BertForSequenceClassification were not initialized from the model checkpoint at bert-base-uncased and are newly initialized: ['classifier.bias', 'classifier.weight']\n",
      "You should probably TRAIN this model on a down-stream task to be able to use it for predictions and inference.\n"
     ]
    },
    {
     "name": "stdout",
     "output_type": "stream",
     "text": [
      "  Client 3: honest (α=1.0, β=0.0) - 683 users\n"
     ]
    },
    {
     "name": "stderr",
     "output_type": "stream",
     "text": [
      "Some weights of BertForSequenceClassification were not initialized from the model checkpoint at bert-base-uncased and are newly initialized: ['classifier.bias', 'classifier.weight']\n",
      "You should probably TRAIN this model on a down-stream task to be able to use it for predictions and inference.\n"
     ]
    },
    {
     "name": "stdout",
     "output_type": "stream",
     "text": [
      "  Client 4: honest (α=1.0, β=0.0) - 683 users\n"
     ]
    },
    {
     "name": "stderr",
     "output_type": "stream",
     "text": [
      "Some weights of BertForSequenceClassification were not initialized from the model checkpoint at bert-base-uncased and are newly initialized: ['classifier.bias', 'classifier.weight']\n",
      "You should probably TRAIN this model on a down-stream task to be able to use it for predictions and inference.\n"
     ]
    },
    {
     "name": "stdout",
     "output_type": "stream",
     "text": [
      "  Client 5: ADVERSARIAL (α=2.0, β=0.0) - 683 users\n"
     ]
    },
    {
     "name": "stderr",
     "output_type": "stream",
     "text": [
      "Some weights of BertForSequenceClassification were not initialized from the model checkpoint at bert-base-uncased and are newly initialized: ['classifier.bias', 'classifier.weight']\n",
      "You should probably TRAIN this model on a down-stream task to be able to use it for predictions and inference.\n"
     ]
    }
   ],
   "source": [
    "print(\"\\nCreating clients...\")\n",
    "split_index = len(user_names) // config[\"clients\"][\"n_players\"]\n",
    "clients = []\n",
    "\n",
    "for i in range(config[\"clients\"][\"n_players\"]):\n",
    "    start_idx = max(0, i * split_index)\n",
    "    end_idx = min((i + 1) * split_index, len(user_names))\n",
    "    client_user_names = user_names[start_idx:end_idx]\n",
    "\n",
    "    if i == config[\"clients\"][\"n_players\"] - 1:\n",
    "        alpha = config[\"clients\"][\"alpha_1\"]\n",
    "        beta = config[\"clients\"][\"beta_1\"]\n",
    "        agent_id = \"bad\"\n",
    "        print(\n",
    "            f\"  Client {i + 1}: BAD - {len(client_user_names)} users\"\n",
    "        )\n",
    "        action = create_sign_flip_action(alpha)\n",
    "    else:\n",
    "        alpha = config[\"clients\"][\"alpha_0\"]\n",
    "        beta = config[\"clients\"][\"beta_0\"]\n",
    "        agent_id = f\"good{i}\"\n",
    "        print(\n",
    "            f\"  Client {i + 1}: GOOD - {len(client_user_names)} users\"\n",
    "        )\n",
    "        action = create_scalar_action(alpha, beta)\n",
    "\n",
    "    train_dataset = TwitterDataset(\n",
    "        client_user_names, data_dict, max_length=config[\"model\"][\"max_length\"]\n",
    "    )\n",
    "    test_dataset = TwitterDataset(\n",
    "        client_user_names, test_data_dict, max_length=config[\"model\"][\"max_length\"]\n",
    "    )\n",
    "\n",
    "    train_dataloader = DataLoader(\n",
    "        train_dataset,\n",
    "        batch_size=config[\"training\"][\"batch_size\"],\n",
    "        shuffle=True,\n",
    "        pin_memory=True if device.type == \"cuda\" else False,\n",
    "    )\n",
    "\n",
    "    test_dataloader = DataLoader(\n",
    "        test_dataset,\n",
    "        batch_size=config[\"training\"][\"eval_batch_size\"],\n",
    "        shuffle=False,\n",
    "        pin_memory=True if device.type == \"cuda\" else False,\n",
    "    )\n",
    "\n",
    "    client_model = BertWithClassifier().to(device)\n",
    "    freeze_bert_encoder(client_model)\n",
    "\n",
    "    client = Client(\n",
    "        device=device,\n",
    "        train_dataloader=train_dataloader,\n",
    "        test_dataloader=test_dataloader,\n",
    "        model=client_model,\n",
    "        criterion=nn.CrossEntropyLoss(),\n",
    "        optimizer=torch.optim.SGD(\n",
    "            [p for p in client_model.parameters() if p.requires_grad],\n",
    "            lr=config[\"training\"][\"lr\"],\n",
    "        ),\n",
    "        action=action,\n",
    "        agent_id=agent_id,\n",
    "    )\n",
    "\n",
    "    clients.append(client)"
   ]
  },
  {
   "cell_type": "markdown",
   "id": "befc24f7",
   "metadata": {},
   "source": [
    "## Run federated training"
   ]
  },
  {
   "cell_type": "code",
   "execution_count": 22,
   "id": "0a2af6b4",
   "metadata": {},
   "outputs": [
    {
     "name": "stdout",
     "output_type": "stream",
     "text": [
      "\n",
      "Starting federated training for 500 rounds...\n"
     ]
    },
    {
     "name": "stderr",
     "output_type": "stream",
     "text": [
      "Federated Training: 100%|██████████| 500/500 [15:25<00:00,  1.85s/it]"
     ]
    },
    {
     "name": "stdout",
     "output_type": "stream",
     "text": [
      "Training completed!\n"
     ]
    },
    {
     "name": "stderr",
     "output_type": "stream",
     "text": [
      "\n"
     ]
    }
   ],
   "source": [
    "print(f\"\\nStarting federated training for {config['training']['T']} rounds...\")\n",
    "\n",
    "all_losses, all_metrics = server.train(\n",
    "    clients=clients,\n",
    "    T=config[\"training\"][\"T\"],\n",
    "    get_metrics=get_gradient_metrics,\n",
    ")\n",
    "\n",
    "print(\"Training completed!\")"
   ]
  },
  {
   "cell_type": "markdown",
   "id": "ecd15ed0",
   "metadata": {},
   "source": [
    "## Evaluate final performance"
   ]
  },
  {
   "cell_type": "code",
   "execution_count": 23,
   "id": "b9fd8c8f",
   "metadata": {},
   "outputs": [
    {
     "name": "stdout",
     "output_type": "stream",
     "text": [
      "\n",
      "Evaluating final performance...\n",
      "good0: Accuracy = 0.5463, Loss = 0.6739\n",
      "good1: Accuracy = 0.5450, Loss = 0.6741\n",
      "good2: Accuracy = 0.5473, Loss = 0.6742\n",
      "good3: Accuracy = 0.5519, Loss = 0.6708\n",
      "bad: Accuracy = 0.5638, Loss = 0.6683\n"
     ]
    }
   ],
   "source": [
    "# This might be extremely slow if you're doing it locally, sorry :(\n",
    "\n",
    "print(\"\\nEvaluating final performance...\")\n",
    "final_accuracy, final_loss = evaluate_with_ids(server, clients)"
   ]
  },
  {
   "cell_type": "markdown",
   "id": "b5b7db96",
   "metadata": {},
   "source": [
    "## Visualize training process"
   ]
  },
  {
   "cell_type": "code",
   "execution_count": 24,
   "id": "04237085",
   "metadata": {},
   "outputs": [
    {
     "name": "stdout",
     "output_type": "stream",
     "text": [
      "Figure saved as 'twitter_training_metrics.png'\n"
     ]
    },
    {
     "data": {
      "image/png": "[encoded data removed]",
      "text/plain": [
       "<Figure size 1200x600 with 2 Axes>"
      ]
     },
     "metadata": {},
     "output_type": "display_data"
    }
   ],
   "source": [
    "losses_array = np.array(\n",
    "    [[loss for loss in round_losses] for round_losses in all_losses]\n",
    ")\n",
    "grad_norms_array = np.array([metrics[\"grad_norms\"] for metrics in all_metrics])\n",
    "\n",
    "fig, axes = plt.subplots(1, 2, figsize=(12, 6))\n",
    "\n",
    "# Training losses over time\n",
    "axes[0].plot(losses_array.mean(axis=1), label=\"Average Loss\", color=\"blue\")\n",
    "# axes[0].fill_between(\n",
    "#     range(len(losses_array)),\n",
    "#     losses_array.min(axis=1),\n",
    "#     losses_array.max(axis=1),\n",
    "#     alpha=0.3,\n",
    "#     color=\"blue\",\n",
    "# )\n",
    "axes[0].set_title(\"Training Loss Over Time\")\n",
    "axes[0].set_xlabel(\"Round\")\n",
    "axes[0].set_ylabel(\"Loss\")\n",
    "axes[0].legend()\n",
    "\n",
    "# # Individual client losses\n",
    "# for i in range(config[\"clients\"][\"n_players\"]):\n",
    "#     client_type = (\n",
    "#         \"Adversarial\" if i == config[\"clients\"][\"n_players\"] - 1 else f\"Honest {i + 1}\"\n",
    "#     )\n",
    "#     axes[0, 1].plot(losses_array[:, i], label=client_type, alpha=0.7)\n",
    "# axes[0, 1].set_title(\"Individual Client Losses\")\n",
    "# axes[0, 1].set_xlabel(\"Round\")\n",
    "# axes[0, 1].set_ylabel(\"Loss\")\n",
    "# axes[0, 1].legend()\n",
    "\n",
    "# # Gradient norms\n",
    "# for i in range(config[\"clients\"][\"n_players\"]):\n",
    "#     client_type = (\n",
    "#         \"Adversarial\" if i == config[\"clients\"][\"n_players\"] - 1 else f\"Honest {i + 1}\"\n",
    "#     )\n",
    "#     axes[1, 0].plot(grad_norms_array[:, i], label=client_type, alpha=0.7)\n",
    "# axes[1, 0].set_title(\"Gradient Norms Over Time\")\n",
    "# axes[1, 0].set_xlabel(\"Round\")\n",
    "# axes[1, 0].set_ylabel(\"Gradient Norm\")\n",
    "# axes[1, 0].legend()\n",
    "\n",
    "# Final loss bar plot\n",
    "client_ids = list(final_loss.keys())\n",
    "loss = [float(final_loss[client_id]) for client_id in client_ids]\n",
    "colors = [\n",
    "    \"red\"\n",
    "    if \"adversarial\" in client_id.lower() or \"bad\" in client_id.lower()\n",
    "    else \"green\"\n",
    "    for client_id in client_ids\n",
    "]\n",
    "axes[1].bar(client_ids, loss, color=colors, alpha=0.7)\n",
    "axes[1].set_title(\"Final Test Loss\")\n",
    "axes[1].set_ylabel(\"Loss\")\n",
    "axes[1].tick_params(axis=\"x\", rotation=45)\n",
    "\n",
    "plt.tight_layout()\n",
    "\n",
    "# Save the figure to file\n",
    "fig_filename = 'twitter_training_metrics'\n",
    "plt.savefig(f'{fig_filename}.png', dpi=300, bbox_inches='tight')\n",
    "print(f\"Figure saved as '{fig_filename}.png'\")\n",
    "\n",
    "plt.show()"
   ]
  },
  {
   "cell_type": "markdown",
   "id": "84b50a7d",
   "metadata": {},
   "source": [
    "### Experiment summary"
   ]
  },
  {
   "cell_type": "code",
   "execution_count": null,
   "id": "ee50295a",
   "metadata": {},
   "outputs": [],
   "source": [
    "print(\"\\n\" + \"=\" * 50)\n",
    "print(\"EXPERIMENT SUMMARY\")\n",
    "print(\"=\" * 50)\n",
    "print(\"\\nConfiguration:\")\n",
    "print(\n",
    "    f\"  Honest clients (a={config['clients']['alpha_0']}, b={config['clients']['beta_0']})\"\n",
    ")\n",
    "print(\n",
    "    f\"  Adversarial client (a={config['clients']['alpha_1']}, b={config['clients']['beta_1']})\"\n",
    ")\n",
    "print(f\"  Training rounds: {config['training']['T']}\")\n",
    "\n",
    "print(f\"\\nFinal Results with {config['aggregation']['method']} aggregation:\")\n",
    "for client_id, acc in final_accuracy.items():\n",
    "    loss = final_loss[client_id]\n",
    "    acc_val = float(acc) if hasattr(acc, \"item\") else acc\n",
    "    loss_val = float(loss) if hasattr(loss, \"item\") else loss\n",
    "    print(f\"  {client_id}: {acc_val:.4f} accuracy, {loss_val:.4f} loss\")\n",
    "\n",
    "# For the final comparison, get the adversarial client's performance\n",
    "adversarial_acc = final_accuracy.get(\"bad\", final_accuracy.get(\"adversarial\"))\n",
    "honest_accs = [\n",
    "    final_accuracy[k]\n",
    "    for k in final_accuracy.keys()\n",
    "    if k != \"bad\" and k != \"adversarial\"\n",
    "]\n",
    "\n",
    "if adversarial_acc is not None and honest_accs:\n",
    "    adversarial_val = (\n",
    "        float(adversarial_acc) if hasattr(adversarial_acc, \"item\") else adversarial_acc\n",
    "    )\n",
    "    honest_vals = [float(acc) if hasattr(acc, \"item\") else acc for acc in honest_accs]"
   ]
  },
  {
   "cell_type": "markdown",
   "id": "5925f855",
   "metadata": {},
   "source": [
    "### [Optional] Saving the results"
   ]
  },
  {
   "cell_type": "code",
   "execution_count": null,
   "id": "64567f7c",
   "metadata": {},
   "outputs": [],
   "source": [
    "results = {\n",
    "    \"config\": config,\n",
    "    \"final_accuracy\": final_accuracy,\n",
    "    \"final_loss\": final_loss,\n",
    "    \"training_losses\": losses_array,\n",
    "    \"gradient_norms\": grad_norms_array,\n",
    "}\n",
    "\n",
    "with open(\"strategicflsim_demo_shakespeare.pkl\", \"wb\") as f:\n",
    "    pickle.dump(results, f)\n",
    "print(\"Results saved to strategicflsim_demo_shakespeare.pkl\")"
   ]
  }
 ],
 "metadata": {
  "kernelspec": {
   "display_name": "fl",
   "language": "python",
   "name": "python3"
  },
  "language_info": {
   "codemirror_mode": {
    "name": "ipython",
    "version": 3
   },
   "file_extension": ".py",
   "mimetype": "text/x-python",
   "name": "python",
   "nbconvert_exporter": "python",
   "pygments_lexer": "ipython3",
   "version": "3.13.7"
  }
 },
 "nbformat": 4,
 "nbformat_minor": 5
}
