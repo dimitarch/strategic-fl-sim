{
 "cells": [
  {
   "cell_type": "markdown",
   "id": "b89dad4d",
   "metadata": {},
   "source": [
    "# StrategicFL: Shakespeare Demo Experiment\n",
    "\n",
    "Demonstrating strategic federated learning with a free-riding client"
   ]
  },
  {
   "cell_type": "code",
   "execution_count": null,
   "id": "3b3eaebe",
   "metadata": {},
   "outputs": [],
   "source": [
    "import json\n",
    "import pickle\n",
    "\n",
    "import matplotlib.pyplot as plt\n",
    "import numpy as np\n",
    "import torch\n",
    "from shakespearedataset import ShakespeareDataset\n",
    "from torch import nn\n",
    "from torch.utils.data import DataLoader\n",
    "\n",
    "from models import LSTM\n",
    "from strategicfl.agents import Client, Server\n",
    "from strategicfl.utils.actions import create_freeriding_action, create_scalar_action\n",
    "from strategicfl.utils.aggregation import get_aggregate\n",
    "from strategicfl.utils.evaluate import evaluate_with_ids\n",
    "from strategicfl.utils.metrics import get_gradient_metrics"
   ]
  },
  {
   "cell_type": "markdown",
   "id": "9b964c24",
   "metadata": {},
   "source": [
    "## Preparation/initialization"
   ]
  },
  {
   "cell_type": "markdown",
   "id": "c45c0acd",
   "metadata": {},
   "source": [
    "### Setup device"
   ]
  },
  {
   "cell_type": "code",
   "execution_count": 2,
   "id": "377cf9a4",
   "metadata": {},
   "outputs": [
    {
     "name": "stdout",
     "output_type": "stream",
     "text": [
      "Using device: mps\n"
     ]
    }
   ],
   "source": [
    "if torch.cuda.is_available():\n",
    "    device = torch.device(\"cuda\")  # GPU\n",
    "elif torch.backends.mps.is_built():\n",
    "    device = torch.device(\"mps\")  # Apple M-series\n",
    "else:\n",
    "    device = torch.device(\"cpu\")  # CPU\n",
    "\n",
    "print(f\"Using device: {device}\")"
   ]
  },
  {
   "cell_type": "markdown",
   "id": "f3661fdc",
   "metadata": {},
   "source": [
    "### Setup experiment configuration"
   ]
  },
  {
   "cell_type": "code",
   "execution_count": 3,
   "id": "b74eaf8e",
   "metadata": {},
   "outputs": [
    {
     "name": "stdout",
     "output_type": "stream",
     "text": [
      "Configuration:\n",
      "  training:\n",
      "    T: 1000\n",
      "    lr: 0.06\n",
      "    local_steps: 1\n",
      "    batch_size: 16\n",
      "    eval_batch_size: 64\n",
      "  clients:\n",
      "    n_players: 10\n",
      "    alpha_0: 1.0\n",
      "    alpha_1: 1.0\n",
      "    beta_0: 0.0\n",
      "    beta_1: 0.0\n",
      "  aggregation:\n",
      "    method: mean\n",
      "  data:\n",
      "    train_path: ../../data/shakespeare/train.json\n",
      "    test_path: ../../data/shakespeare/test.json\n",
      "    truncate_size: 1000\n",
      "  model:\n",
      "    seq_len: 80\n",
      "    num_classes: 80\n",
      "    n_hidden: 256\n",
      "    embedding_dim: 8\n"
     ]
    }
   ],
   "source": [
    "config = {\n",
    "    \"training\": {\n",
    "        \"T\": 1000,\n",
    "        \"lr\": 0.06,\n",
    "        \"local_steps\": 1,\n",
    "        \"batch_size\": 16,\n",
    "        \"eval_batch_size\": 64,\n",
    "    },\n",
    "    \"clients\": {\n",
    "        \"n_players\": 10,\n",
    "        \"alpha_0\": 1.0,\n",
    "        \"alpha_1\": 1.0,\n",
    "        \"beta_0\": 0.0,\n",
    "        \"beta_1\": 0.0,\n",
    "    },\n",
    "    \"aggregation\": {\"method\": \"mean\"},\n",
    "    \"data\": {\n",
    "        \"train_path\": \"../../data/shakespeare/train.json\",\n",
    "        \"test_path\": \"../../data/shakespeare/test.json\",\n",
    "        \"truncate_size\": 1000,\n",
    "    },\n",
    "    \"model\": {\"seq_len\": 80, \"num_classes\": 80, \"n_hidden\": 256, \"embedding_dim\": 8},\n",
    "}\n",
    "\n",
    "print(\"Configuration:\")\n",
    "for section, values in config.items():\n",
    "    print(f\"  {section}:\")\n",
    "    for key, value in values.items():\n",
    "        print(f\"    {key}: {value}\")"
   ]
  },
  {
   "cell_type": "markdown",
   "id": "6d4e7dcf",
   "metadata": {},
   "source": [
    "### Loading the Shakespeare data"
   ]
  },
  {
   "cell_type": "code",
   "execution_count": 5,
   "id": "d393b4c8",
   "metadata": {},
   "outputs": [
    {
     "name": "stdout",
     "output_type": "stream",
     "text": [
      "\n",
      "Loading Shakespeare data...\n",
      "Training data: 799 users\n",
      "Sample user data size: 400 samples\n",
      "Truncating data to last 1000 samples...\n"
     ]
    }
   ],
   "source": [
    "def get_data(path: str):\n",
    "    with open(path, \"r\") as f:\n",
    "        data = json.load(f)\n",
    "        user_names = data[\"users\"]\n",
    "        data_dict = data[\"user_data\"]\n",
    "    return data_dict, user_names\n",
    "\n",
    "\n",
    "print(\"\\nLoading Shakespeare data...\")\n",
    "data_dict, user_names = get_data(config[\"data\"][\"train_path\"])\n",
    "test_data_dict, _ = get_data(config[\"data\"][\"test_path\"])\n",
    "\n",
    "print(f\"Training data: {len(user_names)} users\")\n",
    "print(f\"Sample user data size: {len(data_dict[user_names[0]]['x'])} samples\")\n",
    "\n",
    "# DATA TRUNCATION\n",
    "if config[\"data\"][\"truncate_size\"] > 0:\n",
    "    print(f\"Truncating data to last {config['data']['truncate_size']} samples...\")\n",
    "\n",
    "    for key in data_dict.keys():\n",
    "        try:\n",
    "            if (\n",
    "                isinstance(data_dict[key], dict)\n",
    "                and \"x\" in data_dict[key]\n",
    "                and \"y\" in data_dict[key]\n",
    "            ):\n",
    "                data_dict[key][\"x\"] = data_dict[key][\"x\"][\n",
    "                    -config[\"data\"][\"truncate_size\"] :\n",
    "                ]\n",
    "                data_dict[key][\"y\"] = data_dict[key][\"y\"][\n",
    "                    -config[\"data\"][\"truncate_size\"] :\n",
    "                ]\n",
    "        except Exception as e:\n",
    "            print(f\"Error processing key {key}: {e}\")\n",
    "\n",
    "    for key in test_data_dict.keys():\n",
    "        try:\n",
    "            if (\n",
    "                isinstance(test_data_dict[key], dict)\n",
    "                and \"x\" in test_data_dict[key]\n",
    "                and \"y\" in test_data_dict[key]\n",
    "            ):\n",
    "                test_data_dict[key][\"x\"] = test_data_dict[key][\"x\"][\n",
    "                    -config[\"data\"][\"truncate_size\"] :\n",
    "                ]\n",
    "                test_data_dict[key][\"y\"] = test_data_dict[key][\"y\"][\n",
    "                    -config[\"data\"][\"truncate_size\"] :\n",
    "                ]\n",
    "        except Exception as e:\n",
    "            print(f\"Error processing test key {key}: {e}\")"
   ]
  },
  {
   "cell_type": "markdown",
   "id": "56eb7173",
   "metadata": {},
   "source": [
    "### Creating a Server agent with LSTM model"
   ]
  },
  {
   "cell_type": "code",
   "execution_count": 6,
   "id": "c8523cd2",
   "metadata": {},
   "outputs": [
    {
     "name": "stdout",
     "output_type": "stream",
     "text": [
      "\n",
      "Creating server...\n",
      "Created server with mean aggregation\n"
     ]
    }
   ],
   "source": [
    "print(\"\\nCreating server...\")\n",
    "server_model = LSTM(\n",
    "    seq_len=config[\"model\"][\"seq_len\"],\n",
    "    num_classes=config[\"model\"][\"num_classes\"],\n",
    "    n_hidden=config[\"model\"][\"n_hidden\"],\n",
    "    embedding_dim=config[\"model\"][\"embedding_dim\"],\n",
    ").to(device)\n",
    "\n",
    "server = Server(\n",
    "    device=device,\n",
    "    model=server_model,\n",
    "    criterion=nn.CrossEntropyLoss().to(device),\n",
    "    optimizer=torch.optim.SGD(server_model.parameters(), lr=config[\"training\"][\"lr\"]),\n",
    "    aggregate_fn=get_aggregate(method=config[\"aggregation\"][\"method\"]),\n",
    "    agent_id=\"server\",\n",
    ")\n",
    "\n",
    "print(f\"Created server with {config['aggregation']['method']} aggregation\")\n"
   ]
  },
  {
   "cell_type": "markdown",
   "id": "532575d5",
   "metadata": {},
   "source": [
    "### Creating a group of Client agents\n",
    "All but one clients are honest, one client is free-riding."
   ]
  },
  {
   "cell_type": "code",
   "execution_count": null,
   "id": "21ad416f",
   "metadata": {},
   "outputs": [
    {
     "name": "stdout",
     "output_type": "stream",
     "text": [
      "\n",
      "Creating clients...\n",
      "  Client 1: honest (α=1.0, β=0.0) - 79 users\n",
      "  Client 2: honest (α=1.0, β=0.0) - 79 users\n",
      "  Client 3: honest (α=1.0, β=0.0) - 79 users\n",
      "  Client 4: honest (α=1.0, β=0.0) - 79 users\n",
      "  Client 5: honest (α=1.0, β=0.0) - 79 users\n",
      "  Client 6: honest (α=1.0, β=0.0) - 79 users\n",
      "  Client 7: honest (α=1.0, β=0.0) - 79 users\n",
      "  Client 8: honest (α=1.0, β=0.0) - 79 users\n",
      "  Client 9: honest (α=1.0, β=0.0) - 79 users\n",
      "  Client 10: ADVERSARIAL (α=1.0, β=0.0) - 79 users\n"
     ]
    }
   ],
   "source": [
    "print(\"\\nCreating clients...\")\n",
    "split_index = len(user_names) // config[\"clients\"][\"n_players\"]\n",
    "clients = []\n",
    "\n",
    "for i in range(config[\"clients\"][\"n_players\"]):\n",
    "    start_idx = max(0, i * split_index)\n",
    "    end_idx = min((i + 1) * split_index, len(user_names))\n",
    "    client_user_names = user_names[start_idx:end_idx]\n",
    "\n",
    "    if i == config[\"clients\"][\"n_players\"] - 1:\n",
    "        alpha = config[\"clients\"][\"alpha_1\"]\n",
    "        beta = config[\"clients\"][\"beta_1\"]\n",
    "        agent_id = \"bad\"\n",
    "        print(\n",
    "            f\"  Client {i + 1}: BAD - {len(client_user_names)} users\"\n",
    "        )\n",
    "        action = create_freeriding_action()\n",
    "    else:\n",
    "        alpha = config[\"clients\"][\"alpha_0\"]\n",
    "        beta = config[\"clients\"][\"beta_0\"]\n",
    "        agent_id = f\"good{i}\"\n",
    "        print(\n",
    "            f\"  Client {i + 1}: GOOD - {len(client_user_names)} users\"\n",
    "        )\n",
    "        action = create_scalar_action(alpha, beta)\n",
    "\n",
    "    train_dataset = ShakespeareDataset(client_user_names, data_dict)\n",
    "    test_dataset = ShakespeareDataset(client_user_names, test_data_dict)\n",
    "\n",
    "    train_dataloader = DataLoader(\n",
    "        train_dataset,\n",
    "        batch_size=config[\"training\"][\"batch_size\"],\n",
    "        shuffle=True,\n",
    "        pin_memory=True if device.type == \"cuda\" else False,\n",
    "    )\n",
    "\n",
    "    test_dataloader = DataLoader(\n",
    "        test_dataset,\n",
    "        batch_size=config[\"training\"][\"eval_batch_size\"],\n",
    "        shuffle=False,\n",
    "        pin_memory=True if device.type == \"cuda\" else False,\n",
    "    )\n",
    "\n",
    "    client_model = LSTM(\n",
    "        seq_len=config[\"model\"][\"seq_len\"],\n",
    "        num_classes=config[\"model\"][\"num_classes\"],\n",
    "        n_hidden=config[\"model\"][\"n_hidden\"],\n",
    "        embedding_dim=config[\"model\"][\"embedding_dim\"],\n",
    "    ).to(device)\n",
    "\n",
    "    client = Client(\n",
    "        device=device,\n",
    "        train_dataloader=train_dataloader,\n",
    "        test_dataloader=test_dataloader,\n",
    "        model=client_model,\n",
    "        criterion=nn.CrossEntropyLoss(),\n",
    "        optimizer=torch.optim.SGD(\n",
    "            client_model.parameters(), lr=config[\"training\"][\"lr\"]\n",
    "        ),\n",
    "        action=create_scalar_action(alpha, beta),\n",
    "        agent_id=agent_id,\n",
    "    )\n",
    "\n",
    "    clients.append(client)\n"
   ]
  },
  {
   "cell_type": "markdown",
   "id": "befc24f7",
   "metadata": {},
   "source": [
    "## Run federated training"
   ]
  },
  {
   "cell_type": "code",
   "execution_count": 9,
   "id": "0a2af6b4",
   "metadata": {},
   "outputs": [
    {
     "name": "stdout",
     "output_type": "stream",
     "text": [
      "\n",
      "Starting federated training for 1000 rounds...\n"
     ]
    },
    {
     "name": "stderr",
     "output_type": "stream",
     "text": [
      "Federated Training: 100%|██████████| 1000/1000 [03:54<00:00,  4.27it/s]"
     ]
    },
    {
     "name": "stdout",
     "output_type": "stream",
     "text": [
      "Training completed!\n"
     ]
    },
    {
     "name": "stderr",
     "output_type": "stream",
     "text": [
      "\n"
     ]
    }
   ],
   "source": [
    "print(f\"\\nStarting federated training for {config['training']['T']} rounds...\")\n",
    "\n",
    "all_losses, all_metrics = server.train(\n",
    "    clients=clients,\n",
    "    T=config[\"training\"][\"T\"],\n",
    "    get_metrics=get_gradient_metrics,\n",
    ")\n",
    "\n",
    "print(\"Training completed!\")"
   ]
  },
  {
   "cell_type": "markdown",
   "id": "ecd15ed0",
   "metadata": {},
   "source": [
    "## Evaluate final performance"
   ]
  },
  {
   "cell_type": "code",
   "execution_count": 10,
   "id": "b9fd8c8f",
   "metadata": {},
   "outputs": [
    {
     "name": "stdout",
     "output_type": "stream",
     "text": [
      "\n",
      "Evaluating final performance...\n",
      "good0: Accuracy = 0.1888, Loss = 3.1428\n",
      "good1: Accuracy = 0.1887, Loss = 3.1318\n",
      "good2: Accuracy = 0.1864, Loss = 3.1494\n",
      "good3: Accuracy = 0.1895, Loss = 3.1402\n",
      "good4: Accuracy = 0.1872, Loss = 3.1460\n",
      "good5: Accuracy = 0.1900, Loss = 3.1430\n",
      "good6: Accuracy = 0.1874, Loss = 3.1264\n",
      "good7: Accuracy = 0.1885, Loss = 3.1387\n",
      "good8: Accuracy = 0.1897, Loss = 3.1517\n",
      "bad: Accuracy = 0.1880, Loss = 3.1563\n"
     ]
    }
   ],
   "source": [
    "print(\"\\nEvaluating final performance...\")\n",
    "final_accuracy, final_loss = evaluate_with_ids(server, clients)"
   ]
  },
  {
   "cell_type": "markdown",
   "id": "b5b7db96",
   "metadata": {},
   "source": [
    "## Visualize training process"
   ]
  },
  {
   "cell_type": "code",
   "execution_count": 12,
   "id": "04237085",
   "metadata": {},
   "outputs": [
    {
     "name": "stdout",
     "output_type": "stream",
     "text": [
      "Figure saved as 'shakespeare_training_metrics.png'\n"
     ]
    },
    {
     "data": {
      "image/png": "[encoded data removed]",
      "text/plain": [
       "<Figure size 1200x600 with 2 Axes>"
      ]
     },
     "metadata": {},
     "output_type": "display_data"
    }
   ],
   "source": [
    "losses_array = np.array(\n",
    "    [[loss for loss in round_losses] for round_losses in all_losses]\n",
    ")\n",
    "grad_norms_array = np.array([metrics[\"grad_norms\"] for metrics in all_metrics])\n",
    "\n",
    "fig, axes = plt.subplots(1, 2, figsize=(12, 6))\n",
    "\n",
    "# Training losses over time\n",
    "axes[0].plot(losses_array.mean(axis=1), label=\"Average Loss\", color=\"blue\")\n",
    "# axes[0].fill_between(\n",
    "#     range(len(losses_array)),\n",
    "#     losses_array.min(axis=1),\n",
    "#     losses_array.max(axis=1),\n",
    "#     alpha=0.3,\n",
    "#     color=\"blue\",\n",
    "# )\n",
    "axes[0].set_title(\"Training Loss Over Time\")\n",
    "axes[0].set_xlabel(\"Round\")\n",
    "axes[0].set_ylabel(\"Loss\")\n",
    "axes[0].legend()\n",
    "\n",
    "# # Individual client losses\n",
    "# for i in range(config[\"clients\"][\"n_players\"]):\n",
    "#     client_type = (\n",
    "#         \"Adversarial\" if i == config[\"clients\"][\"n_players\"] - 1 else f\"Honest {i + 1}\"\n",
    "#     )\n",
    "#     axes[0, 1].plot(losses_array[:, i], label=client_type, alpha=0.7)\n",
    "# axes[0, 1].set_title(\"Individual Client Losses\")\n",
    "# axes[0, 1].set_xlabel(\"Round\")\n",
    "# axes[0, 1].set_ylabel(\"Loss\")\n",
    "# axes[0, 1].legend()\n",
    "\n",
    "# # Gradient norms\n",
    "# for i in range(config[\"clients\"][\"n_players\"]):\n",
    "#     client_type = (\n",
    "#         \"Adversarial\" if i == config[\"clients\"][\"n_players\"] - 1 else f\"Honest {i + 1}\"\n",
    "#     )\n",
    "#     axes[1, 0].plot(grad_norms_array[:, i], label=client_type, alpha=0.7)\n",
    "# axes[1, 0].set_title(\"Gradient Norms Over Time\")\n",
    "# axes[1, 0].set_xlabel(\"Round\")\n",
    "# axes[1, 0].set_ylabel(\"Gradient Norm\")\n",
    "# axes[1, 0].legend()\n",
    "\n",
    "# Final loss bar plot\n",
    "client_ids = list(final_loss.keys())\n",
    "loss = [float(final_loss[client_id]) for client_id in client_ids]\n",
    "colors = [\n",
    "    \"red\"\n",
    "    if \"adversarial\" in client_id.lower() or \"bad\" in client_id.lower()\n",
    "    else \"green\"\n",
    "    for client_id in client_ids\n",
    "]\n",
    "axes[1].bar(client_ids, loss, color=colors, alpha=0.7)\n",
    "axes[1].set_title(\"Final Test Loss\")\n",
    "axes[1].set_ylabel(\"Loss\")\n",
    "axes[1].tick_params(axis=\"x\", rotation=45)\n",
    "\n",
    "plt.tight_layout()\n",
    "\n",
    "# Save the figure to file\n",
    "fig_filename = 'shakespeare_training_metrics'\n",
    "plt.savefig(f'{fig_filename}.png', dpi=300, bbox_inches='tight')\n",
    "print(f\"Figure saved as '{fig_filename}.png'\")\n",
    "\n",
    "plt.show()"
   ]
  },
  {
   "cell_type": "markdown",
   "id": "84b50a7d",
   "metadata": {},
   "source": [
    "### Experiment summary"
   ]
  },
  {
   "cell_type": "code",
   "execution_count": 26,
   "id": "ee50295a",
   "metadata": {},
   "outputs": [
    {
     "name": "stdout",
     "output_type": "stream",
     "text": [
      "\n",
      "==================================================\n",
      "EXPERIMENT SUMMARY\n",
      "==================================================\n",
      "\n",
      "Configuration:\n",
      "  Honest clients (α=1.0, β=0.0)\n",
      "  Adversarial client (α=1.0, β=0.0)\n",
      "  Training rounds: 50\n",
      "\n",
      "Final Results with mean aggregation:\n",
      "  good0: 0.1885 accuracy, 4.3092 loss\n",
      "  good1: 0.1883 accuracy, 4.3094 loss\n",
      "  bad: 0.1887 accuracy, 4.3094 loss\n"
     ]
    }
   ],
   "source": [
    "print(\"\\n\" + \"=\" * 50)\n",
    "print(\"EXPERIMENT SUMMARY\")\n",
    "print(\"=\" * 50)\n",
    "print(\"\\nConfiguration:\")\n",
    "print(\n",
    "    f\"  Honest clients (a={config['clients']['alpha_0']}, b={config['clients']['beta_0']})\"\n",
    ")\n",
    "print(\n",
    "    f\"  Adversarial client (a={config['clients']['alpha_1']}, b={config['clients']['beta_1']})\"\n",
    ")\n",
    "print(f\"  Training rounds: {config['training']['T']}\")\n",
    "\n",
    "print(f\"\\nFinal Results with {config['aggregation']['method']} aggregation:\")\n",
    "for client_id, acc in final_accuracy.items():\n",
    "    loss = final_loss[client_id]\n",
    "    acc_val = float(acc) if hasattr(acc, \"item\") else acc\n",
    "    loss_val = float(loss) if hasattr(loss, \"item\") else loss\n",
    "    print(f\"  {client_id}: {acc_val:.4f} accuracy, {loss_val:.4f} loss\")\n",
    "\n",
    "# For the final comparison, get the adversarial client's performance\n",
    "adversarial_acc = final_accuracy.get(\"bad\", final_accuracy.get(\"adversarial\"))\n",
    "honest_accs = [\n",
    "    final_accuracy[k]\n",
    "    for k in final_accuracy.keys()\n",
    "    if k != \"bad\" and k != \"adversarial\"\n",
    "]\n",
    "\n",
    "if adversarial_acc is not None and honest_accs:\n",
    "    adversarial_val = (\n",
    "        float(adversarial_acc) if hasattr(adversarial_acc, \"item\") else adversarial_acc\n",
    "    )\n",
    "    honest_vals = [float(acc) if hasattr(acc, \"item\") else acc for acc in honest_accs]"
   ]
  },
  {
   "cell_type": "markdown",
   "id": "5925f855",
   "metadata": {},
   "source": [
    "### [Optional] Saving the results"
   ]
  },
  {
   "cell_type": "code",
   "execution_count": 27,
   "id": "64567f7c",
   "metadata": {},
   "outputs": [
    {
     "name": "stdout",
     "output_type": "stream",
     "text": [
      "Results saved to strategicfl_demo_shakespeare.pkl\n"
     ]
    }
   ],
   "source": [
    "results = {\n",
    "    \"config\": config,\n",
    "    \"final_accuracy\": final_accuracy,\n",
    "    \"final_loss\": final_loss,\n",
    "    \"training_losses\": losses_array,\n",
    "    \"gradient_norms\": grad_norms_array,\n",
    "}\n",
    "\n",
    "with open(\"strategicfl_demo_shakespeare.pkl\", \"wb\") as f:\n",
    "    pickle.dump(results, f)\n",
    "print(\"Results saved to strategicfl_demo_shakespeare.pkl\")"
   ]
  }
 ],
 "metadata": {
  "kernelspec": {
   "display_name": "fl",
   "language": "python",
   "name": "python3"
  },
  "language_info": {
   "codemirror_mode": {
    "name": "ipython",
    "version": 3
   },
   "file_extension": ".py",
   "mimetype": "text/x-python",
   "name": "python",
   "nbconvert_exporter": "python",
   "pygments_lexer": "ipython3",
   "version": "3.13.7"
  }
 },
 "nbformat": 4,
 "nbformat_minor": 5
}
