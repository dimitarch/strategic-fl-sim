{
 "cells": [
  {
   "cell_type": "markdown",
   "id": "b89dad4d",
   "metadata": {},
   "source": [
    "# `strategic-fl-sim`: FEMNIST Demo Experiment \n",
    "\n",
    "Demonstrating strategic federated learning with adversarial client who upscales their updates"
   ]
  },
  {
   "cell_type": "code",
   "execution_count": null,
   "id": "3b3eaebe",
   "metadata": {},
   "outputs": [
    {
     "name": "stderr",
     "output_type": "stream",
     "text": [
      "/Users/dimitar-chakarov/Documents/projects/strategicfl/fl/lib/python3.13/site-packages/tqdm/auto.py:21: TqdmWarning: IProgress not found. Please update jupyter and ipywidgets. See https://ipywidgets.readthedocs.io/en/stable/user_install.html\n",
      "  from .autonotebook import tqdm as notebook_tqdm\n"
     ]
    }
   ],
   "source": [
    "import json\n",
    "import pickle\n",
    "\n",
    "import matplotlib.pyplot as plt\n",
    "import numpy as np\n",
    "import torch\n",
    "\n",
    "# Import framework components\n",
    "from femnistdataset import FEMNISTDataset\n",
    "from torch import nn\n",
    "from torch.utils.data import DataLoader\n",
    "\n",
    "from models import CNN\n",
    "from strategicflsim.agents import Client, Server\n",
    "from strategicflsim.utils.actions import create_scalar_action\n",
    "from strategicflsim.utils.aggregation import get_aggregate\n",
    "from strategicflsim.utils.evaluate import evaluate_with_ids\n",
    "from strategicflsim.utils.metrics import get_gradient_metrics"
   ]
  },
  {
   "cell_type": "markdown",
   "id": "9b964c24",
   "metadata": {},
   "source": [
    "## Preparation/initialization"
   ]
  },
  {
   "cell_type": "markdown",
   "id": "c45c0acd",
   "metadata": {},
   "source": [
    "### Setup device"
   ]
  },
  {
   "cell_type": "code",
   "execution_count": 3,
   "id": "377cf9a4",
   "metadata": {},
   "outputs": [
    {
     "name": "stdout",
     "output_type": "stream",
     "text": [
      "Using device: mps\n"
     ]
    }
   ],
   "source": [
    "if torch.cuda.is_available():\n",
    "    device = torch.device(\"cuda\")  # GPU\n",
    "elif torch.backends.mps.is_built():\n",
    "    device = torch.device(\"mps\")  # Apple M-series\n",
    "else:\n",
    "    device = torch.device(\"cpu\")  # CPU\n",
    "\n",
    "print(f\"Using device: {device}\")"
   ]
  },
  {
   "cell_type": "markdown",
   "id": "f3661fdc",
   "metadata": {},
   "source": [
    "### Setup experiment configuration"
   ]
  },
  {
   "cell_type": "code",
   "execution_count": 5,
   "id": "b74eaf8e",
   "metadata": {},
   "outputs": [
    {
     "name": "stdout",
     "output_type": "stream",
     "text": [
      "Configuration:\n",
      "  training:\n",
      "    T: 3500\n",
      "    lr: 0.06\n",
      "    local_steps: 3\n",
      "    batch_size: 32\n",
      "    eval_batch_size: 64\n",
      "  clients:\n",
      "    n_players: 10\n",
      "    alpha_0: 1.0\n",
      "    alpha_1: 2.0\n",
      "    beta_0: 0.0\n",
      "    beta_1: 0.0\n",
      "  aggregation:\n",
      "    method: mean\n",
      "  data:\n",
      "    train_path: ../../data/femnist/train.json\n",
      "    test_path: ../../data/femnist/test.json\n"
     ]
    }
   ],
   "source": [
    "config = {\n",
    "    \"training\": {\n",
    "        \"T\": 3500,  # Number of training rounds\n",
    "        \"lr\": 0.06,  # Learning rate\n",
    "        \"local_steps\": 3,  # Local SGD steps\n",
    "        \"batch_size\": 32,\n",
    "        \"eval_batch_size\": 64,\n",
    "    },\n",
    "    \"clients\": {\n",
    "        \"n_players\": 10,  # Number of client groups\n",
    "        \"alpha_0\": 1.0,  # Good client scaling\n",
    "        \"alpha_1\": 2.0,  # Bad client scaling; Not really bad here, this is for illustrative purposes of the functionality of the package\n",
    "        \"beta_0\": 0.0,  # Honest client noise\n",
    "        \"beta_1\": 0.0,  # Adversarial client noise\n",
    "    },\n",
    "    \"aggregation\": {\n",
    "        \"method\": \"mean\"  # Can be 'mean', 'median', 'trimmed_mean'\n",
    "    },\n",
    "    \"data\": {\n",
    "        \"train_path\": \"../../data/femnist/train.json\",\n",
    "        \"test_path\": \"../../data/femnist/test.json\",\n",
    "    },\n",
    "}\n",
    "\n",
    "print(\"Configuration:\")\n",
    "for section, values in config.items():\n",
    "    print(f\"  {section}:\")\n",
    "    for key, value in values.items():\n",
    "        print(f\"    {key}: {value}\")"
   ]
  },
  {
   "cell_type": "markdown",
   "id": "6d4e7dcf",
   "metadata": {},
   "source": [
    "### Loading the FEMNIST data"
   ]
  },
  {
   "cell_type": "code",
   "execution_count": 6,
   "id": "d393b4c8",
   "metadata": {},
   "outputs": [
    {
     "name": "stdout",
     "output_type": "stream",
     "text": [
      "\n",
      "Loading FEMNIST data...\n",
      "Training data: 3597 users\n",
      "Sample user data size: 139 samples\n"
     ]
    }
   ],
   "source": [
    "def get_data(path: str):\n",
    "    with open(path, \"r\") as f:\n",
    "        data = json.load(f)\n",
    "        user_names = list(data.keys())\n",
    "    return data, user_names\n",
    "\n",
    "\n",
    "print(\"\\nLoading FEMNIST data...\")\n",
    "data_dict, user_names = get_data(config[\"data\"][\"train_path\"])\n",
    "test_data_dict, _ = get_data(config[\"data\"][\"test_path\"])\n",
    "\n",
    "print(f\"Training data: {len(user_names)} users\")\n",
    "print(f\"Sample user data size: {len(data_dict[user_names[0]]['x'])} samples\")"
   ]
  },
  {
   "cell_type": "markdown",
   "id": "56eb7173",
   "metadata": {},
   "source": [
    "### Creating a Server agent with CNN model"
   ]
  },
  {
   "cell_type": "code",
   "execution_count": 7,
   "id": "c8523cd2",
   "metadata": {},
   "outputs": [
    {
     "name": "stdout",
     "output_type": "stream",
     "text": [
      "\n",
      "Creating server...\n",
      "Created server with mean aggregation\n"
     ]
    }
   ],
   "source": [
    "print(\"\\nCreating server...\")\n",
    "server_model = CNN().to(device)\n",
    "\n",
    "# Enable compilation for better performance (if available)\n",
    "if device.type == \"cuda\":\n",
    "    server_model = torch.compile(server_model, mode=\"reduce-overhead\")\n",
    "\n",
    "server = Server(\n",
    "    device=device,\n",
    "    model=server_model,\n",
    "    criterion=nn.CrossEntropyLoss().to(device),\n",
    "    optimizer=torch.optim.SGD(server_model.parameters(), lr=config[\"training\"][\"lr\"]),\n",
    "    aggregate_fn=get_aggregate(method=config[\"aggregation\"][\"method\"]),\n",
    ")\n",
    "\n",
    "print(f\"Created server with {config['aggregation']['method']} aggregation\")"
   ]
  },
  {
   "cell_type": "markdown",
   "id": "532575d5",
   "metadata": {},
   "source": [
    "### Creating a group of Client agents\n",
    "All but one clients are honest, one client is scaling up their update."
   ]
  },
  {
   "cell_type": "code",
   "execution_count": 8,
   "id": "21ad416f",
   "metadata": {},
   "outputs": [
    {
     "name": "stdout",
     "output_type": "stream",
     "text": [
      "\n",
      "Creating clients...\n",
      "  Client 1: GOOD\n",
      "  Client 2: GOOD\n",
      "  Client 3: GOOD\n",
      "  Client 4: GOOD\n",
      "  Client 5: GOOD\n",
      "  Client 6: GOOD\n",
      "  Client 7: GOOD\n",
      "  Client 8: GOOD\n",
      "  Client 9: GOOD\n",
      "  Client 10: BAD\n"
     ]
    }
   ],
   "source": [
    "print(\"\\nCreating clients...\")\n",
    "split_index = len(user_names) // config[\"clients\"][\"n_players\"]\n",
    "clients = []\n",
    "\n",
    "for i in range(config[\"clients\"][\"n_players\"]):\n",
    "    # Split users among clients\n",
    "    start_idx = max(0, i * split_index)\n",
    "    end_idx = min((i + 1) * split_index, len(user_names))\n",
    "    client_user_names = user_names[start_idx:end_idx]\n",
    "\n",
    "    # Last client is adversarial, others are honest\n",
    "    if i == config[\"clients\"][\"n_players\"] - 1:\n",
    "        alpha = config[\"clients\"][\"alpha_1\"]\n",
    "        beta = config[\"clients\"][\"beta_1\"]\n",
    "        agent_id = \"bad\"\n",
    "        print(f\"  Client {i + 1}: BAD\")\n",
    "    else:\n",
    "        alpha = config[\"clients\"][\"alpha_0\"]\n",
    "        beta = config[\"clients\"][\"beta_0\"]\n",
    "        agent_id = f\"good{i}\"\n",
    "        print(f\"  Client {i + 1}: GOOD\")\n",
    "\n",
    "    # Create datasets\n",
    "    train_dataset = FEMNISTDataset(client_user_names, data_dict)\n",
    "    test_dataset = FEMNISTDataset(client_user_names, test_data_dict)\n",
    "\n",
    "    train_dataloader = DataLoader(\n",
    "        train_dataset,\n",
    "        batch_size=config[\"training\"][\"batch_size\"],\n",
    "        shuffle=True,\n",
    "        pin_memory=True if device.type == \"cuda\" else False,\n",
    "    )\n",
    "\n",
    "    test_dataloader = DataLoader(\n",
    "        test_dataset,\n",
    "        batch_size=config[\"training\"][\"eval_batch_size\"],\n",
    "        shuffle=False,\n",
    "        pin_memory=True if device.type == \"cuda\" else False,\n",
    "    )\n",
    "\n",
    "    # Create client model\n",
    "    client_model = CNN().to(device)\n",
    "    if device.type == \"cuda\":\n",
    "        client_model = torch.compile(client_model, mode=\"reduce-overhead\")\n",
    "\n",
    "    client = Client(\n",
    "        device=device,\n",
    "        train_dataloader=train_dataloader,\n",
    "        test_dataloader=test_dataloader,\n",
    "        model=client_model,\n",
    "        criterion=nn.CrossEntropyLoss().to(device),\n",
    "        optimizer=torch.optim.SGD(\n",
    "            client_model.parameters(), lr=config[\"training\"][\"lr\"]\n",
    "        ),\n",
    "        action=create_scalar_action(alpha, beta),\n",
    "        agent_id=agent_id,\n",
    "    )\n",
    "\n",
    "    clients.append(client)"
   ]
  },
  {
   "cell_type": "markdown",
   "id": "befc24f7",
   "metadata": {},
   "source": [
    "## Run federated training"
   ]
  },
  {
   "cell_type": "code",
   "execution_count": 9,
   "id": "0a2af6b4",
   "metadata": {},
   "outputs": [
    {
     "name": "stdout",
     "output_type": "stream",
     "text": [
      "\n",
      "Starting federated training for 3500 rounds...\n"
     ]
    },
    {
     "name": "stderr",
     "output_type": "stream",
     "text": [
      "Federated Training: 100%|██████████| 3500/3500 [08:41<00:00,  6.71it/s]"
     ]
    },
    {
     "name": "stdout",
     "output_type": "stream",
     "text": [
      "Training completed!\n"
     ]
    },
    {
     "name": "stderr",
     "output_type": "stream",
     "text": [
      "\n"
     ]
    }
   ],
   "source": [
    "print(f\"\\nStarting federated training for {config['training']['T']} rounds...\")\n",
    "\n",
    "all_losses, all_metrics = server.train(\n",
    "    clients=clients,\n",
    "    T=config[\"training\"][\"T\"],\n",
    "    get_metrics=get_gradient_metrics,\n",
    ")\n",
    "\n",
    "print(\"Training completed!\")"
   ]
  },
  {
   "cell_type": "markdown",
   "id": "ecd15ed0",
   "metadata": {},
   "source": [
    "## Evaluate final performance"
   ]
  },
  {
   "cell_type": "code",
   "execution_count": 11,
   "id": "b9fd8c8f",
   "metadata": {},
   "outputs": [
    {
     "name": "stdout",
     "output_type": "stream",
     "text": [
      "\n",
      "Evaluating final performance...\n",
      "good0: Accuracy = 0.8535, Loss = 0.4236\n",
      "good1: Accuracy = 0.8205, Loss = 0.5187\n",
      "good2: Accuracy = 0.8104, Loss = 0.5556\n",
      "good3: Accuracy = 0.8285, Loss = 0.5216\n",
      "good4: Accuracy = 0.8384, Loss = 0.4784\n",
      "good5: Accuracy = 0.8661, Loss = 0.4175\n",
      "good6: Accuracy = 0.9017, Loss = 0.3134\n",
      "good7: Accuracy = 0.8391, Loss = 0.4902\n",
      "good8: Accuracy = 0.8408, Loss = 0.4830\n",
      "bad: Accuracy = 0.8622, Loss = 0.4137\n"
     ]
    }
   ],
   "source": [
    "print(\"\\nEvaluating final performance...\")\n",
    "final_accuracy, final_loss = evaluate_with_ids(server, clients)"
   ]
  },
  {
   "cell_type": "markdown",
   "id": "b5b7db96",
   "metadata": {},
   "source": [
    "## Visualize training process"
   ]
  },
  {
   "cell_type": "code",
   "execution_count": null,
   "id": "04237085",
   "metadata": {},
   "outputs": [
    {
     "name": "stdout",
     "output_type": "stream",
     "text": [
      "Figure saved as 'femnist_training_metrics.png'\n"
     ]
    },
    {
     "data": {
      "image/png": "[encoded data removed]",
      "text/plain": [
       "<Figure size 1200x600 with 2 Axes>"
      ]
     },
     "metadata": {},
     "output_type": "display_data"
    }
   ],
   "source": [
    "losses_array = np.array(\n",
    "    [[loss for loss in round_losses] for round_losses in all_losses]\n",
    ")\n",
    "grad_norms_array = np.array([metrics[\"grad_norms\"] for metrics in all_metrics])\n",
    "\n",
    "fig, axes = plt.subplots(1, 2, figsize=(12, 6))\n",
    "\n",
    "# Training losses over time\n",
    "axes[0].plot(losses_array.mean(axis=1), label=\"Average Loss\", color=\"blue\")\n",
    "\n",
    "axes[0].set_title(\"Training Loss Over Time\")\n",
    "axes[0].set_xlabel(\"Round\")\n",
    "axes[0].set_ylabel(\"Loss\")\n",
    "axes[0].legend()\n",
    "\n",
    "# Final loss bar plot\n",
    "client_ids = list(final_loss.keys())\n",
    "loss = [float(final_loss[client_id]) for client_id in client_ids]\n",
    "colors = [\n",
    "    \"red\"\n",
    "    if \"adversarial\" in client_id.lower() or \"bad\" in client_id.lower()\n",
    "    else \"green\"\n",
    "    for client_id in client_ids\n",
    "]\n",
    "axes[1].bar(client_ids, loss, color=colors, alpha=0.7)\n",
    "axes[1].set_title(\"Final Test Loss\")\n",
    "axes[1].set_ylabel(\"Loss\")\n",
    "axes[1].tick_params(axis=\"x\", rotation=45)\n",
    "\n",
    "plt.tight_layout()\n",
    "\n",
    "# Save the figure to file\n",
    "fig_filename = 'femnist_training_metrics'\n",
    "plt.savefig(f'{fig_filename}.png', dpi=300, bbox_inches='tight')\n",
    "print(f\"Figure saved as '{fig_filename}.png'\")\n",
    "\n",
    "plt.show()"
   ]
  },
  {
   "cell_type": "markdown",
   "id": "5925f855",
   "metadata": {},
   "source": [
    "### [Optional] Saving the results"
   ]
  },
  {
   "cell_type": "code",
   "execution_count": null,
   "id": "64567f7c",
   "metadata": {},
   "outputs": [],
   "source": [
    "results = {\n",
    "    \"config\": config,\n",
    "    \"final_accuracy\": final_accuracy,\n",
    "    \"final_loss\": final_loss,\n",
    "    \"training_losses\": losses_array,\n",
    "    \"gradient_norms\": grad_norms_array,\n",
    "}\n",
    "\n",
    "with open(\"strategicflsim_demo_femnist.pkl\", \"wb\") as f:\n",
    "    pickle.dump(results, f)\n",
    "print(\"Results saved to strategicflsim_demo_femnist.pkl\")"
   ]
  }
 ],
 "metadata": {
  "kernelspec": {
   "display_name": "fl",
   "language": "python",
   "name": "python3"
  },
  "language_info": {
   "codemirror_mode": {
    "name": "ipython",
    "version": 3
   },
   "file_extension": ".py",
   "mimetype": "text/x-python",
   "name": "python",
   "nbconvert_exporter": "python",
   "pygments_lexer": "ipython3",
   "version": "3.13.8"
  }
 },
 "nbformat": 4,
 "nbformat_minor": 5
}
